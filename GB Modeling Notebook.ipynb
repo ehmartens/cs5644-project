{
 "cells": [
  {
   "cell_type": "code",
   "execution_count": 35,
   "id": "ed224a17",
   "metadata": {},
   "outputs": [],
   "source": [
    "from src import Modeler, Processor, Reader\n",
    "import pandas as pd\n",
    "from datetime import datetime\n",
    "from sklearn import metrics, model_selection, preprocessing\n",
    "from sklearn.linear_model import LinearRegression\n",
    "from sklearn.neighbors import KNeighborsRegressor\n",
    "from sklearn.tree import DecisionTreeRegressor\n",
    "from sklearn.ensemble import GradientBoostingRegressor\n",
    "import numpy as np\n",
    "import time\n",
    "\n",
    "# Plotting\n",
    "%matplotlib inline\n",
    "import matplotlib.pyplot as plt\n",
    "import seaborn as sns \n",
    "sns.set()"
   ]
  },
  {
   "cell_type": "code",
   "execution_count": 37,
   "id": "7b5c5254",
   "metadata": {},
   "outputs": [],
   "source": [
    "# Using the US Census regions from here: https://www2.census.gov/geo/pdfs/maps-data/maps/reference/us_regdiv.pdf\n",
    "south_atlantic_states = [\n",
    "    10   # Delaware\n",
    "    , 11 # DC\n",
    "    , 12 # Florida\n",
    "    , 13 # Georgia\n",
    "    , 24 # Maryland\n",
    "    , 37 # North Carolina\n",
    "    , 45 # South Carolina\n",
    "    , 51 # Virginia\n",
    "    , 54 # West Virginia\n",
    "]\n",
    "state_filter = south_atlantic_states"
   ]
  },
  {
   "cell_type": "code",
   "execution_count": 39,
   "id": "7eb214ae",
   "metadata": {},
   "outputs": [],
   "source": [
    "state_dict = {\n",
    "    'code' : ['10', '11', '12', '13', '24', '37', '45', '51', '54']\n",
    "    , 'state_name' : ['Delware', 'DC', 'Florida', 'Georgia', 'Maryland', 'North Carolina', 'South Carolina', 'Virginia', 'West Virginia']\n",
    "}\n",
    "\n",
    "state_code_map = pd.DataFrame(data=state_dict)"
   ]
  },
  {
   "cell_type": "markdown",
   "id": "23996f4c",
   "metadata": {},
   "source": [
    "## Loading data"
   ]
  },
  {
   "cell_type": "code",
   "execution_count": 41,
   "id": "b6d8b615",
   "metadata": {
    "scrolled": false
   },
   "outputs": [],
   "source": [
    "# Instantiate preprocessor\n",
    "preprocessor = Processor.PreProcessor(state_filter=state_filter)"
   ]
  },
  {
   "cell_type": "code",
   "execution_count": 43,
   "id": "240f8773",
   "metadata": {},
   "outputs": [
    {
     "name": "stderr",
     "output_type": "stream",
     "text": [
      "/Users/elizabethmartens/cs5644/project/projectGitRepo/src/Processor.py:37: DtypeWarning: Columns (15) have mixed types.Specify dtype option on import or set low_memory=False.\n",
      "  merged_df = self.init_cdc_data().merge(self.init_vaccinations_data(), how='left', on=['date', 'FIPS'])\n",
      "/Users/elizabethmartens/cs5644/project/projectGitRepo/src/Processor.py:37: DtypeWarning: Columns (15) have mixed types.Specify dtype option on import or set low_memory=False.\n",
      "  merged_df = self.init_cdc_data().merge(self.init_vaccinations_data(), how='left', on=['date', 'FIPS'])\n"
     ]
    }
   ],
   "source": [
    "# Put data into a df to work with\n",
    "df = preprocessor.get_processed_data()"
   ]
  },
  {
   "cell_type": "code",
   "execution_count": null,
   "id": "9976e6a4",
   "metadata": {},
   "outputs": [],
   "source": [
    "# Export data to csv so that the data does not have to be recreated each run\n",
    "df.to_csv('COVID_Analysis_Data.csv',index=False)\n",
    "# Show data\n",
    "df.head()"
   ]
  },
  {
   "cell_type": "code",
   "execution_count": null,
   "id": "cb9b616c",
   "metadata": {},
   "outputs": [],
   "source": [
    "# Load data\n",
    "#df = pd.read_csv(\"COVID_Analysis_Data.csv\", dtypes={'date':''})"
   ]
  },
  {
   "cell_type": "code",
   "execution_count": null,
   "id": "73a30dd4",
   "metadata": {},
   "outputs": [],
   "source": [
    "df.shape"
   ]
  },
  {
   "cell_type": "markdown",
   "id": "118b1a8c",
   "metadata": {},
   "source": [
    "## Split into train and test"
   ]
  },
  {
   "cell_type": "code",
   "execution_count": null,
   "id": "44debb1a",
   "metadata": {},
   "outputs": [],
   "source": [
    "modeler = Modeler.Modeler()"
   ]
  },
  {
   "cell_type": "code",
   "execution_count": null,
   "id": "ff1bf4b1",
   "metadata": {},
   "outputs": [],
   "source": [
    "# Split data into training and test dataset:\n",
    "train_end_date = '2021-06-14'\n",
    "X_train, y_train_cases, y_train_deaths, X_test, y_test_cases, y_test_deaths = modeler.split_train_test(df, train_end_date)"
   ]
  },
  {
   "cell_type": "markdown",
   "id": "52ab2d10",
   "metadata": {},
   "source": [
    "### Unpivoted data"
   ]
  },
  {
   "cell_type": "code",
   "execution_count": null,
   "id": "7e16c7bc",
   "metadata": {},
   "outputs": [],
   "source": [
    "unpivoted_df = preprocessor.get_processed_data_without_fips_as_columns(set_current_data=False)"
   ]
  },
  {
   "cell_type": "code",
   "execution_count": null,
   "id": "cf6707be",
   "metadata": {},
   "outputs": [],
   "source": [
    "unpivoted_cases = unpivoted_df[['date', 'FIPS', 'cases']].copy()\n",
    "unpivoted_cases['STATE'] = unpivoted_cases['FIPS'].apply(lambda x: x[:2])\n",
    "unpivoted_cases = unpivoted_cases.merge(state_code_map, left_on='STATE', right_on='code', how='left')"
   ]
  },
  {
   "cell_type": "code",
   "execution_count": null,
   "id": "102b9a7c",
   "metadata": {},
   "outputs": [],
   "source": [
    "unpivoted_cases_test = unpivoted_cases[unpivoted_cases['date'] > train_end_date]"
   ]
  },
  {
   "cell_type": "code",
   "execution_count": null,
   "id": "bf2e0d08",
   "metadata": {},
   "outputs": [],
   "source": [
    "unpivoted_deaths = unpivoted_df[['date', 'FIPS', 'deaths']].copy()\n",
    "unpivoted_deaths['STATE'] = unpivoted_deaths['FIPS'].apply(lambda x: x[:2])\n",
    "unpivoted_deaths = unpivoted_deaths.merge(state_code_map, left_on='STATE', right_on='code', how='left')"
   ]
  },
  {
   "cell_type": "code",
   "execution_count": null,
   "id": "a4c535d5",
   "metadata": {},
   "outputs": [],
   "source": [
    "unpivoted_deaths_test = unpivoted_deaths[unpivoted_deaths['date'] > train_end_date]"
   ]
  },
  {
   "cell_type": "code",
   "execution_count": null,
   "id": "a9968ceb",
   "metadata": {},
   "outputs": [],
   "source": []
  },
  {
   "cell_type": "markdown",
   "id": "13a39dd3",
   "metadata": {},
   "source": [
    "## Plotting functions"
   ]
  },
  {
   "cell_type": "code",
   "execution_count": null,
   "id": "5f4ff563",
   "metadata": {},
   "outputs": [],
   "source": [
    "def plot_predictions(y_test, y_pred, model_name=None):\n",
    "    plt.figure(figsize=(9,6))\n",
    "    plt.scatter(y_test, y_pred, color='none', edgecolor='b')\n",
    "    xymin = min(np.min(y_test), np.min(y_pred))\n",
    "    xymax = max(np.max(y_test), np.max(y_pred))\n",
    "    plt.plot([xymin, xymax],[xymin, xymax], color=\"r\", linestyle=\"--\")\n",
    "    plt.xlabel('Actual')\n",
    "    plt.ylabel('Predicted')\n",
    "    if model_name:\n",
    "        plt.title(f'{model_name}: Actuals vs Predicted', fontsize=16)\n",
    "    else:\n",
    "        plt.title('Actuals vs Predicted', fontsize=16)\n",
    "    plt.show()\n",
    "    \n",
    "def plot_predictions_w_state(y_test, y_pred, unpivoted_test_df, model_name=None):\n",
    "    plt.figure(figsize=(9,6))\n",
    "    sns.scatterplot(x=y_test, y=y_pred, hue=unpivoted_test_df['state_name'])\n",
    "    xymin = min(np.min(y_test), np.min(y_pred))\n",
    "    xymax = max(np.max(y_test), np.max(y_pred))\n",
    "    plt.plot([xymin, xymax],[xymin, xymax], color=\"r\", linestyle=\"--\")\n",
    "    plt.xlabel('Actual')\n",
    "    plt.ylabel('Predicted')\n",
    "    if model_name:\n",
    "        plt.title(f'{model_name}: Actuals vs Predicted by state', fontsize=16)\n",
    "    else:\n",
    "        plt.title('Actuals vs Predicted by state', fontsize=16)\n",
    "    plt.show()\n",
    "    \n",
    "def plot_residuals(X_test, residuals, model_name=None):\n",
    "    plt.figure(figsize=(18, 6))\n",
    "    sns.scatterplot(x=df['date'], y=residuals, color='none', edgecolor='r')\n",
    "    if model_name:\n",
    "        plt.title(f'{model_name}: Residuals', fontsize=16)\n",
    "    else:\n",
    "        plt.title('Residuals', fontsize=16)\n",
    "    plt.show()\n",
    "    \n",
    "def plot_residuals_w_state(X_test, residuals, unpivoted_test_df, model_name=None):\n",
    "    plt.figure(figsize=(18, 6))\n",
    "    sns.scatterplot(x=df['date'], y=residuals, hue=unpivoted_test_df['state_name'])\n",
    "    if model_name:\n",
    "        plt.title(f'{model_name}: Residuals by state', fontsize=16)\n",
    "    else:\n",
    "        plt.title('Residuals by state', fontsize=16)\n",
    "    plt.show()"
   ]
  },
  {
   "cell_type": "markdown",
   "id": "27616def",
   "metadata": {},
   "source": [
    "## Modeling functions"
   ]
  },
  {
   "cell_type": "code",
   "execution_count": null,
   "id": "4b170eb3",
   "metadata": {},
   "outputs": [],
   "source": [
    "def run_full_pipeline(model, X_train, y_train, X_test, y_test, unpivoted_test_df, model_name=None):\n",
    "    if model_name:\n",
    "        print(f'{model_name}')\n",
    "    # Cross validate and report scores:\n",
    "    scores = modeler.cv_model(model, X_train, y_train)\n",
    "    print('Cross-Validation Scores:')\n",
    "    for k, v in scores.items():\n",
    "        print(f'\\t{k}: {round(v[0],2)} +/- {round(v[1],2)}')\n",
    "    # Test data\n",
    "    start = time.time()\n",
    "    y_pred, rmse, r2, fit_time, fit_predict_time = modeler.test_model(model, X_train, y_train, X_test, y_test)\n",
    "    residuals = (y_test - y_pred)\n",
    "    print(f'Time to train model: {fit_time}')\n",
    "    # Plots\n",
    "    plot_predictions(y_test, y_pred, model_name)\n",
    "    plot_residuals(X_test, residuals, model_name)\n",
    "    plot_predictions_w_state(y_test, y_pred, unpivoted_test_df, model_name)\n",
    "    plot_residuals_w_state(X_test, residuals, unpivoted_test_df, model_name)\n",
    "    return y_pred, residuals, rmse, r2, fit_time"
   ]
  },
  {
   "cell_type": "markdown",
   "id": "7fc2bd2b",
   "metadata": {},
   "source": [
    "# Gradient Boosting"
   ]
  },
  {
   "cell_type": "code",
   "execution_count": null,
   "id": "a827824f",
   "metadata": {},
   "outputs": [],
   "source": [
    "gb_model = GradientBoostingRegressor()"
   ]
  },
  {
   "cell_type": "code",
   "execution_count": null,
   "id": "40e2f3a3",
   "metadata": {},
   "outputs": [],
   "source": [
    "# Cases\n",
    "gb_model.fit(X_train, y_train_cases)\n",
    "\n",
    "y_pred_cases = gb_model.predict(X_test)"
   ]
  },
  {
   "cell_type": "code",
   "execution_count": null,
   "id": "7a699e6a",
   "metadata": {},
   "outputs": [],
   "source": [
    "mse = metrics.mean_squared_error(y_test_cases, y_pred_cases)\n",
    "print(\"The mean squared error (MSE) on test set: {:.4f}\".format(mse))"
   ]
  },
  {
   "cell_type": "code",
   "execution_count": null,
   "id": "ade488f9",
   "metadata": {},
   "outputs": [],
   "source": [
    "# Adapted from https://scikit-learn.org/stable/auto_examples/ensemble/plot_gradient_boosting_regression.html#plot-training-deviance\n",
    "number_of_estimators = 100\n",
    "test_score = np.zeros((number_of_estimators,), dtype=np.float64)\n",
    "for i, y_pred in enumerate(gb_model.staged_predict(X_test)):\n",
    "    test_score[i] = gb_model.loss_(y_test, y_pred)\n",
    "\n",
    "fig = plt.figure(figsize=(6, 6))\n",
    "plt.subplot(1, 1, 1)\n",
    "plt.title(\"Deviance\")\n",
    "plt.plot(\n",
    "    np.arange(number_of_estimators) + 1,\n",
    "    gb_model.train_score_,\n",
    "    \"b-\",\n",
    "    label=\"Training Set Deviance\",\n",
    ")\n",
    "plt.plot(\n",
    "    np.arange(number_of_estimators) + 1, test_score, \"r-\", label=\"Test Set Deviance\"\n",
    ")\n",
    "plt.legend(loc=\"upper right\")\n",
    "plt.xlabel(\"Boosting Iterations\")\n",
    "plt.ylabel(\"Deviance\")\n",
    "fig.tight_layout()\n",
    "plt.show()\n",
    "\n"
   ]
  }
 ],
 "metadata": {
  "kernelspec": {
   "display_name": "Python 3",
   "language": "python",
   "name": "python3"
  },
  "language_info": {
   "codemirror_mode": {
    "name": "ipython",
    "version": 3
   },
   "file_extension": ".py",
   "mimetype": "text/x-python",
   "name": "python",
   "nbconvert_exporter": "python",
   "pygments_lexer": "ipython3",
   "version": "3.8.8"
  }
 },
 "nbformat": 4,
 "nbformat_minor": 5
}
