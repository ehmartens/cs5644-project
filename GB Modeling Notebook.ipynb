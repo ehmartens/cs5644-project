{
 "cells": [
  {
   "cell_type": "code",
   "execution_count": 28,
   "id": "ed224a17",
   "metadata": {},
   "outputs": [],
   "source": [
    "from src import Modeler, Processor, Reader\n",
    "import pandas as pd\n",
    "from datetime import datetime\n",
    "from sklearn import metrics, model_selection, preprocessing, inspection\n",
    "from sklearn.linear_model import LinearRegression\n",
    "from sklearn.neighbors import KNeighborsRegressor\n",
    "from sklearn.tree import DecisionTreeRegressor\n",
    "from sklearn.ensemble import GradientBoostingRegressor\n",
    "import numpy as np\n",
    "import time\n",
    "\n",
    "# Plotting\n",
    "%matplotlib inline\n",
    "import matplotlib.pyplot as plt\n",
    "import seaborn as sns \n",
    "sns.set()"
   ]
  },
  {
   "cell_type": "code",
   "execution_count": 2,
   "id": "7b5c5254",
   "metadata": {},
   "outputs": [],
   "source": [
    "# Using the US Census regions from here: https://www2.census.gov/geo/pdfs/maps-data/maps/reference/us_regdiv.pdf\n",
    "south_atlantic_states = [\n",
    "    10   # Delaware\n",
    "    , 11 # DC\n",
    "    , 12 # Florida\n",
    "    , 13 # Georgia\n",
    "    , 24 # Maryland\n",
    "    , 37 # North Carolina\n",
    "    , 45 # South Carolina\n",
    "    , 51 # Virginia\n",
    "    , 54 # West Virginia\n",
    "]\n",
    "state_filter = south_atlantic_states"
   ]
  },
  {
   "cell_type": "code",
   "execution_count": 3,
   "id": "7eb214ae",
   "metadata": {},
   "outputs": [],
   "source": [
    "state_dict = {\n",
    "    'code' : ['10', '11', '12', '13', '24', '37', '45', '51', '54']\n",
    "    , 'state_name' : ['Delware', 'DC', 'Florida', 'Georgia', 'Maryland', 'North Carolina', 'South Carolina', 'Virginia', 'West Virginia']\n",
    "}\n",
    "\n",
    "state_code_map = pd.DataFrame(data=state_dict)"
   ]
  },
  {
   "cell_type": "markdown",
   "id": "23996f4c",
   "metadata": {},
   "source": [
    "## Loading data"
   ]
  },
  {
   "cell_type": "code",
   "execution_count": 4,
   "id": "b6d8b615",
   "metadata": {
    "scrolled": false
   },
   "outputs": [],
   "source": [
    "# Instantiate preprocessor\n",
    "preprocessor = Processor.PreProcessor(state_filter=state_filter)"
   ]
  },
  {
   "cell_type": "code",
   "execution_count": 5,
   "id": "240f8773",
   "metadata": {},
   "outputs": [
    {
     "name": "stderr",
     "output_type": "stream",
     "text": [
      "/Users/elizabethmartens/cs5644/project/projectGitRepo/src/Processor.py:37: DtypeWarning: Columns (15) have mixed types.Specify dtype option on import or set low_memory=False.\n",
      "  merged_df = self.init_cdc_data().merge(self.init_vaccinations_data(), how='left', on=['date', 'FIPS'])\n",
      "/Users/elizabethmartens/cs5644/project/projectGitRepo/src/Processor.py:37: DtypeWarning: Columns (15) have mixed types.Specify dtype option on import or set low_memory=False.\n",
      "  merged_df = self.init_cdc_data().merge(self.init_vaccinations_data(), how='left', on=['date', 'FIPS'])\n"
     ]
    }
   ],
   "source": [
    "# Put data into a df to work with\n",
    "df = preprocessor.get_processed_data()"
   ]
  },
  {
   "cell_type": "code",
   "execution_count": 6,
   "id": "9976e6a4",
   "metadata": {},
   "outputs": [
    {
     "data": {
      "text/html": [
       "<div>\n",
       "<style scoped>\n",
       "    .dataframe tbody tr th:only-of-type {\n",
       "        vertical-align: middle;\n",
       "    }\n",
       "\n",
       "    .dataframe tbody tr th {\n",
       "        vertical-align: top;\n",
       "    }\n",
       "\n",
       "    .dataframe thead th {\n",
       "        text-align: right;\n",
       "    }\n",
       "</style>\n",
       "<table border=\"1\" class=\"dataframe\">\n",
       "  <thead>\n",
       "    <tr style=\"text-align: right;\">\n",
       "      <th></th>\n",
       "      <th>FIPS_10001</th>\n",
       "      <th>FIPS_10003</th>\n",
       "      <th>FIPS_10005</th>\n",
       "      <th>FIPS_11001</th>\n",
       "      <th>FIPS_12001</th>\n",
       "      <th>FIPS_12003</th>\n",
       "      <th>FIPS_12005</th>\n",
       "      <th>FIPS_12007</th>\n",
       "      <th>FIPS_12009</th>\n",
       "      <th>FIPS_12011</th>\n",
       "      <th>...</th>\n",
       "      <th>is_metro</th>\n",
       "      <th>Series_Complete_Pop_Pct_UR_Equity</th>\n",
       "      <th>cases</th>\n",
       "      <th>deaths</th>\n",
       "      <th>8_days_prior_cases</th>\n",
       "      <th>9_days_prior_cases</th>\n",
       "      <th>10_days_prior_cases</th>\n",
       "      <th>8_days_prior_deaths</th>\n",
       "      <th>9_days_prior_deaths</th>\n",
       "      <th>10_days_prior_deaths</th>\n",
       "    </tr>\n",
       "  </thead>\n",
       "  <tbody>\n",
       "    <tr>\n",
       "      <th>0</th>\n",
       "      <td>1.0</td>\n",
       "      <td>0.0</td>\n",
       "      <td>0.0</td>\n",
       "      <td>0.0</td>\n",
       "      <td>0.0</td>\n",
       "      <td>0.0</td>\n",
       "      <td>0.0</td>\n",
       "      <td>0.0</td>\n",
       "      <td>0.0</td>\n",
       "      <td>0.0</td>\n",
       "      <td>...</td>\n",
       "      <td>1.0</td>\n",
       "      <td>0.0</td>\n",
       "      <td>25.142857</td>\n",
       "      <td>0.142857</td>\n",
       "      <td>3.428571</td>\n",
       "      <td>3.857143</td>\n",
       "      <td>3.428571</td>\n",
       "      <td>0.285714</td>\n",
       "      <td>0.285714</td>\n",
       "      <td>0.285714</td>\n",
       "    </tr>\n",
       "    <tr>\n",
       "      <th>1</th>\n",
       "      <td>1.0</td>\n",
       "      <td>0.0</td>\n",
       "      <td>0.0</td>\n",
       "      <td>0.0</td>\n",
       "      <td>0.0</td>\n",
       "      <td>0.0</td>\n",
       "      <td>0.0</td>\n",
       "      <td>0.0</td>\n",
       "      <td>0.0</td>\n",
       "      <td>0.0</td>\n",
       "      <td>...</td>\n",
       "      <td>1.0</td>\n",
       "      <td>0.0</td>\n",
       "      <td>26.714286</td>\n",
       "      <td>0.285714</td>\n",
       "      <td>4.714286</td>\n",
       "      <td>3.428571</td>\n",
       "      <td>3.857143</td>\n",
       "      <td>0.285714</td>\n",
       "      <td>0.285714</td>\n",
       "      <td>0.285714</td>\n",
       "    </tr>\n",
       "    <tr>\n",
       "      <th>2</th>\n",
       "      <td>1.0</td>\n",
       "      <td>0.0</td>\n",
       "      <td>0.0</td>\n",
       "      <td>0.0</td>\n",
       "      <td>0.0</td>\n",
       "      <td>0.0</td>\n",
       "      <td>0.0</td>\n",
       "      <td>0.0</td>\n",
       "      <td>0.0</td>\n",
       "      <td>0.0</td>\n",
       "      <td>...</td>\n",
       "      <td>1.0</td>\n",
       "      <td>0.0</td>\n",
       "      <td>27.857143</td>\n",
       "      <td>0.285714</td>\n",
       "      <td>6.142857</td>\n",
       "      <td>4.714286</td>\n",
       "      <td>3.428571</td>\n",
       "      <td>0.0</td>\n",
       "      <td>0.285714</td>\n",
       "      <td>0.285714</td>\n",
       "    </tr>\n",
       "    <tr>\n",
       "      <th>3</th>\n",
       "      <td>1.0</td>\n",
       "      <td>0.0</td>\n",
       "      <td>0.0</td>\n",
       "      <td>0.0</td>\n",
       "      <td>0.0</td>\n",
       "      <td>0.0</td>\n",
       "      <td>0.0</td>\n",
       "      <td>0.0</td>\n",
       "      <td>0.0</td>\n",
       "      <td>0.0</td>\n",
       "      <td>...</td>\n",
       "      <td>1.0</td>\n",
       "      <td>0.0</td>\n",
       "      <td>22.857143</td>\n",
       "      <td>0.428571</td>\n",
       "      <td>8.714286</td>\n",
       "      <td>6.142857</td>\n",
       "      <td>4.714286</td>\n",
       "      <td>0.0</td>\n",
       "      <td>0.0</td>\n",
       "      <td>0.285714</td>\n",
       "    </tr>\n",
       "    <tr>\n",
       "      <th>4</th>\n",
       "      <td>1.0</td>\n",
       "      <td>0.0</td>\n",
       "      <td>0.0</td>\n",
       "      <td>0.0</td>\n",
       "      <td>0.0</td>\n",
       "      <td>0.0</td>\n",
       "      <td>0.0</td>\n",
       "      <td>0.0</td>\n",
       "      <td>0.0</td>\n",
       "      <td>0.0</td>\n",
       "      <td>...</td>\n",
       "      <td>1.0</td>\n",
       "      <td>0.0</td>\n",
       "      <td>26.0</td>\n",
       "      <td>0.571429</td>\n",
       "      <td>14.428571</td>\n",
       "      <td>8.714286</td>\n",
       "      <td>6.142857</td>\n",
       "      <td>0.142857</td>\n",
       "      <td>0.0</td>\n",
       "      <td>0.0</td>\n",
       "    </tr>\n",
       "  </tbody>\n",
       "</table>\n",
       "<p>5 rows × 704 columns</p>\n",
       "</div>"
      ],
      "text/plain": [
       "  FIPS_10001 FIPS_10003 FIPS_10005 FIPS_11001 FIPS_12001 FIPS_12003  \\\n",
       "0        1.0        0.0        0.0        0.0        0.0        0.0   \n",
       "1        1.0        0.0        0.0        0.0        0.0        0.0   \n",
       "2        1.0        0.0        0.0        0.0        0.0        0.0   \n",
       "3        1.0        0.0        0.0        0.0        0.0        0.0   \n",
       "4        1.0        0.0        0.0        0.0        0.0        0.0   \n",
       "\n",
       "  FIPS_12005 FIPS_12007 FIPS_12009 FIPS_12011  ... is_metro  \\\n",
       "0        0.0        0.0        0.0        0.0  ...      1.0   \n",
       "1        0.0        0.0        0.0        0.0  ...      1.0   \n",
       "2        0.0        0.0        0.0        0.0  ...      1.0   \n",
       "3        0.0        0.0        0.0        0.0  ...      1.0   \n",
       "4        0.0        0.0        0.0        0.0  ...      1.0   \n",
       "\n",
       "  Series_Complete_Pop_Pct_UR_Equity      cases    deaths 8_days_prior_cases  \\\n",
       "0                               0.0  25.142857  0.142857           3.428571   \n",
       "1                               0.0  26.714286  0.285714           4.714286   \n",
       "2                               0.0  27.857143  0.285714           6.142857   \n",
       "3                               0.0  22.857143  0.428571           8.714286   \n",
       "4                               0.0       26.0  0.571429          14.428571   \n",
       "\n",
       "  9_days_prior_cases 10_days_prior_cases 8_days_prior_deaths  \\\n",
       "0           3.857143            3.428571            0.285714   \n",
       "1           3.428571            3.857143            0.285714   \n",
       "2           4.714286            3.428571                 0.0   \n",
       "3           6.142857            4.714286                 0.0   \n",
       "4           8.714286            6.142857            0.142857   \n",
       "\n",
       "  9_days_prior_deaths 10_days_prior_deaths  \n",
       "0            0.285714             0.285714  \n",
       "1            0.285714             0.285714  \n",
       "2            0.285714             0.285714  \n",
       "3                 0.0             0.285714  \n",
       "4                 0.0                  0.0  \n",
       "\n",
       "[5 rows x 704 columns]"
      ]
     },
     "execution_count": 6,
     "metadata": {},
     "output_type": "execute_result"
    }
   ],
   "source": [
    "# Export data to csv so that the data does not have to be recreated each run\n",
    "df.to_csv('COVID_Analysis_Data.csv',index=False)\n",
    "# Show data\n",
    "df.head()"
   ]
  },
  {
   "cell_type": "code",
   "execution_count": 7,
   "id": "cb9b616c",
   "metadata": {},
   "outputs": [],
   "source": [
    "# Load data\n",
    "#df = pd.read_csv(\"COVID_Analysis_Data.csv\", dtypes={'date':''})"
   ]
  },
  {
   "cell_type": "code",
   "execution_count": 8,
   "id": "73a30dd4",
   "metadata": {},
   "outputs": [
    {
     "data": {
      "text/plain": [
       "(289884, 704)"
      ]
     },
     "execution_count": 8,
     "metadata": {},
     "output_type": "execute_result"
    }
   ],
   "source": [
    "df.shape"
   ]
  },
  {
   "cell_type": "markdown",
   "id": "118b1a8c",
   "metadata": {},
   "source": [
    "## Split into train and test"
   ]
  },
  {
   "cell_type": "code",
   "execution_count": 9,
   "id": "44debb1a",
   "metadata": {},
   "outputs": [],
   "source": [
    "modeler = Modeler.Modeler()"
   ]
  },
  {
   "cell_type": "code",
   "execution_count": 10,
   "id": "ff1bf4b1",
   "metadata": {},
   "outputs": [],
   "source": [
    "# Split data into training and test dataset:\n",
    "train_end_date = '2021-06-14'\n",
    "X_train, y_train_cases, y_train_deaths, X_test, y_test_cases, y_test_deaths = modeler.split_train_test(df, train_end_date)"
   ]
  },
  {
   "cell_type": "markdown",
   "id": "52ab2d10",
   "metadata": {},
   "source": [
    "### Unpivoted data"
   ]
  },
  {
   "cell_type": "code",
   "execution_count": 11,
   "id": "7e16c7bc",
   "metadata": {},
   "outputs": [
    {
     "name": "stderr",
     "output_type": "stream",
     "text": [
      "/Users/elizabethmartens/cs5644/project/projectGitRepo/src/Processor.py:37: DtypeWarning: Columns (15) have mixed types.Specify dtype option on import or set low_memory=False.\n",
      "  merged_df = self.init_cdc_data().merge(self.init_vaccinations_data(), how='left', on=['date', 'FIPS'])\n",
      "/Users/elizabethmartens/cs5644/project/projectGitRepo/src/Processor.py:37: DtypeWarning: Columns (15) have mixed types.Specify dtype option on import or set low_memory=False.\n",
      "  merged_df = self.init_cdc_data().merge(self.init_vaccinations_data(), how='left', on=['date', 'FIPS'])\n"
     ]
    }
   ],
   "source": [
    "unpivoted_df = preprocessor.get_processed_data_without_fips_as_columns(set_current_data=False)"
   ]
  },
  {
   "cell_type": "code",
   "execution_count": 12,
   "id": "cf6707be",
   "metadata": {},
   "outputs": [],
   "source": [
    "unpivoted_cases = unpivoted_df[['date', 'FIPS', 'cases']].copy()\n",
    "unpivoted_cases['STATE'] = unpivoted_cases['FIPS'].apply(lambda x: x[:2])\n",
    "unpivoted_cases = unpivoted_cases.merge(state_code_map, left_on='STATE', right_on='code', how='left')"
   ]
  },
  {
   "cell_type": "code",
   "execution_count": 13,
   "id": "102b9a7c",
   "metadata": {},
   "outputs": [],
   "source": [
    "unpivoted_cases_test = unpivoted_cases[unpivoted_cases['date'] > train_end_date]"
   ]
  },
  {
   "cell_type": "code",
   "execution_count": 14,
   "id": "bf2e0d08",
   "metadata": {},
   "outputs": [],
   "source": [
    "unpivoted_deaths = unpivoted_df[['date', 'FIPS', 'deaths']].copy()\n",
    "unpivoted_deaths['STATE'] = unpivoted_deaths['FIPS'].apply(lambda x: x[:2])\n",
    "unpivoted_deaths = unpivoted_deaths.merge(state_code_map, left_on='STATE', right_on='code', how='left')"
   ]
  },
  {
   "cell_type": "code",
   "execution_count": 15,
   "id": "a4c535d5",
   "metadata": {},
   "outputs": [],
   "source": [
    "unpivoted_deaths_test = unpivoted_deaths[unpivoted_deaths['date'] > train_end_date]"
   ]
  },
  {
   "cell_type": "code",
   "execution_count": null,
   "id": "a9968ceb",
   "metadata": {},
   "outputs": [],
   "source": []
  },
  {
   "cell_type": "markdown",
   "id": "13a39dd3",
   "metadata": {},
   "source": [
    "## Plotting functions"
   ]
  },
  {
   "cell_type": "code",
   "execution_count": 16,
   "id": "5f4ff563",
   "metadata": {},
   "outputs": [],
   "source": [
    "def plot_predictions(y_test, y_pred, model_name=None):\n",
    "    plt.figure(figsize=(9,6))\n",
    "    plt.scatter(y_test, y_pred, color='none', edgecolor='b')\n",
    "    xymin = min(np.min(y_test), np.min(y_pred))\n",
    "    xymax = max(np.max(y_test), np.max(y_pred))\n",
    "    plt.plot([xymin, xymax],[xymin, xymax], color=\"r\", linestyle=\"--\")\n",
    "    plt.xlabel('Actual')\n",
    "    plt.ylabel('Predicted')\n",
    "    if model_name:\n",
    "        plt.title(f'{model_name}: Actuals vs Predicted', fontsize=16)\n",
    "    else:\n",
    "        plt.title('Actuals vs Predicted', fontsize=16)\n",
    "    plt.show()\n",
    "    \n",
    "def plot_predictions_w_state(y_test, y_pred, unpivoted_test_df, model_name=None):\n",
    "    plt.figure(figsize=(9,6))\n",
    "    sns.scatterplot(x=y_test, y=y_pred, hue=unpivoted_test_df['state_name'])\n",
    "    xymin = min(np.min(y_test), np.min(y_pred))\n",
    "    xymax = max(np.max(y_test), np.max(y_pred))\n",
    "    plt.plot([xymin, xymax],[xymin, xymax], color=\"r\", linestyle=\"--\")\n",
    "    plt.xlabel('Actual')\n",
    "    plt.ylabel('Predicted')\n",
    "    if model_name:\n",
    "        plt.title(f'{model_name}: Actuals vs Predicted by state', fontsize=16)\n",
    "    else:\n",
    "        plt.title('Actuals vs Predicted by state', fontsize=16)\n",
    "    plt.show()\n",
    "    \n",
    "def plot_residuals(X_test, residuals, model_name=None):\n",
    "    plt.figure(figsize=(18, 6))\n",
    "    sns.scatterplot(x=df['date'], y=residuals, color='none', edgecolor='r')\n",
    "    if model_name:\n",
    "        plt.title(f'{model_name}: Residuals', fontsize=16)\n",
    "    else:\n",
    "        plt.title('Residuals', fontsize=16)\n",
    "    plt.show()\n",
    "    \n",
    "def plot_residuals_w_state(X_test, residuals, unpivoted_test_df, model_name=None):\n",
    "    plt.figure(figsize=(18, 6))\n",
    "    sns.scatterplot(x=df['date'], y=residuals, hue=unpivoted_test_df['state_name'])\n",
    "    if model_name:\n",
    "        plt.title(f'{model_name}: Residuals by state', fontsize=16)\n",
    "    else:\n",
    "        plt.title('Residuals by state', fontsize=16)\n",
    "    plt.show()"
   ]
  },
  {
   "cell_type": "markdown",
   "id": "27616def",
   "metadata": {},
   "source": [
    "## Modeling functions"
   ]
  },
  {
   "cell_type": "code",
   "execution_count": 17,
   "id": "4b170eb3",
   "metadata": {},
   "outputs": [],
   "source": [
    "def run_full_pipeline(model, X_train, y_train, X_test, y_test, unpivoted_test_df, model_name=None):\n",
    "    if model_name:\n",
    "        print(f'{model_name}')\n",
    "    # Cross validate and report scores:\n",
    "    scores = modeler.cv_model(model, X_train, y_train)\n",
    "    print('Cross-Validation Scores:')\n",
    "    for k, v in scores.items():\n",
    "        print(f'\\t{k}: {round(v[0],2)} +/- {round(v[1],2)}')\n",
    "    # Test data\n",
    "    start = time.time()\n",
    "    y_pred, rmse, r2, fit_time, fit_predict_time = modeler.test_model(model, X_train, y_train, X_test, y_test)\n",
    "    residuals = (y_test - y_pred)\n",
    "    print(f'Time to train model: {fit_time}')\n",
    "    # Plots\n",
    "    plot_predictions(y_test, y_pred, model_name)\n",
    "    plot_residuals(X_test, residuals, model_name)\n",
    "    plot_predictions_w_state(y_test, y_pred, unpivoted_test_df, model_name)\n",
    "    plot_residuals_w_state(X_test, residuals, unpivoted_test_df, model_name)\n",
    "    return y_pred, residuals, rmse, r2, fit_time"
   ]
  },
  {
   "cell_type": "markdown",
   "id": "7fc2bd2b",
   "metadata": {},
   "source": [
    "# Gradient Boosting"
   ]
  },
  {
   "cell_type": "code",
   "execution_count": 18,
   "id": "a827824f",
   "metadata": {},
   "outputs": [],
   "source": [
    "gb_model = GradientBoostingRegressor()"
   ]
  },
  {
   "cell_type": "code",
   "execution_count": 19,
   "id": "8e8dee00",
   "metadata": {},
   "outputs": [],
   "source": [
    "# Cases\n",
    "gb_model.fit(X_train, y_train_cases)\n",
    "\n",
    "y_pred_cases = gb_model.predict(X_test)"
   ]
  },
  {
   "cell_type": "code",
   "execution_count": 20,
   "id": "7db1e850",
   "metadata": {},
   "outputs": [
    {
     "name": "stdout",
     "output_type": "stream",
     "text": [
      "The mean squared error (MSE) on test set: 2335.6488\n"
     ]
    }
   ],
   "source": [
    "mse = metrics.mean_squared_error(y_test_cases, y_pred_cases)\n",
    "print(\"The mean squared error (MSE) on test set: {:.4f}\".format(mse))"
   ]
  },
  {
   "cell_type": "code",
   "execution_count": 26,
   "id": "ade488f9",
   "metadata": {},
   "outputs": [
    {
     "data": {
      "image/png": "[encoded data removed]",
      "text/plain": [
       "<Figure size 432x432 with 1 Axes>"
      ]
     },
     "metadata": {},
     "output_type": "display_data"
    }
   ],
   "source": [
    "# Adapted from https://scikit-learn.org/stable/auto_examples/ensemble/plot_gradient_boosting_regression.html#plot-training-deviance\n",
    "number_of_estimators = 100\n",
    "test_score = np.zeros((number_of_estimators,), dtype=np.float64)\n",
    "for i, y_pred_cases in enumerate(gb_model.staged_predict(X_test)):\n",
    "    test_score[i] = gb_model.loss_(y_test_cases, y_pred_cases)\n",
    "min_i = np.argmin(test_score)\n",
    "\n",
    "fig = plt.figure(figsize=(6, 6))\n",
    "plt.subplot(1, 1, 1)\n",
    "plt.title(\"Deviance\")\n",
    "plt.plot(\n",
    "    np.arange(number_of_estimators) + 1,\n",
    "    gb_model.train_score_,\n",
    "    \"b-\",\n",
    "    label=\"Training Set Deviance\",\n",
    ")\n",
    "plt.plot(\n",
    "    np.arange(number_of_estimators) + 1, test_score, \"r-\", label=\"Test Set Deviance\"\n",
    ")\n",
    "\n",
    "plt.axvline(x=(min_i + 1), color='gray')\n",
    "\n",
    "plt.legend(loc=\"upper right\")\n",
    "plt.xlabel(\"Boosting Iterations\")\n",
    "plt.ylabel(\"Deviance\")\n",
    "fig.tight_layout()\n",
    "plt.show()\n"
   ]
  },
  {
   "cell_type": "code",
   "execution_count": 61,
   "id": "9cb7d133",
   "metadata": {},
   "outputs": [],
   "source": [
    "def test_gb_depth(depths):\n",
    "    result_dict = {}\n",
    "    for d in depths:\n",
    "        print(f'Running GB w max depth {d}...')\n",
    "        gb_model = GradientBoostingRegressor(random_state=1, max_depth=d)\n",
    "        # Test various values for tree depth (default is 3)\n",
    "        # Cases\n",
    "        start = time.time()\n",
    "        gb_model.fit(X_train, y_train_cases)\n",
    "        fit_time = time.time() - start\n",
    "        print(f'Fit time for max depth {d} was {fit_time:.2f} seconds')\n",
    "        y_pred_cases = gb_model.predict(X_test)\n",
    "        # Adapted from https://scikit-learn.org/stable/auto_examples/ensemble/plot_gradient_boosting_regression.html#plot-training-deviance\n",
    "        number_of_estimators = 100\n",
    "        test_score = np.zeros((number_of_estimators,), dtype=np.float64)\n",
    "        for i, y_pred_cases in enumerate(gb_model.staged_predict(X_test)):\n",
    "            test_score[i] = gb_model.loss_(y_test_cases, y_pred_cases)\n",
    "        min_i = np.argmin(test_score)\n",
    "        \n",
    "        result_dict[d] = {\n",
    "            'test_score' : test_score\n",
    "            , 'train_score' : gb_model.train_score_\n",
    "            , 'fit_time' : fit_time\n",
    "        }\n",
    "    return result_dict\n"
   ]
  },
  {
   "cell_type": "code",
   "execution_count": 48,
   "id": "64ab81ec",
   "metadata": {},
   "outputs": [],
   "source": [
    "depths = [2,3,4,5]"
   ]
  },
  {
   "cell_type": "code",
   "execution_count": 62,
   "id": "65b120b0",
   "metadata": {},
   "outputs": [
    {
     "name": "stdout",
     "output_type": "stream",
     "text": [
      "Running GB w max depth 2...\n",
      "Fit time for max depth 2 was 195.59 seconds\n",
      "Running GB w max depth 3...\n",
      "Fit time for max depth 3 was 290.59 seconds\n",
      "Running GB w max depth 4...\n",
      "Fit time for max depth 4 was 380.85 seconds\n",
      "Running GB w max depth 5...\n",
      "Fit time for max depth 5 was 472.78 seconds\n"
     ]
    }
   ],
   "source": [
    "depth_results = test_gb_depth(depths)"
   ]
  },
  {
   "cell_type": "code",
   "execution_count": 81,
   "id": "0d36fe61",
   "metadata": {},
   "outputs": [
    {
     "data": {
      "image/png": "[encoded data removed]",
      "text/plain": [
       "<Figure size 1152x288 with 4 Axes>"
      ]
     },
     "metadata": {},
     "output_type": "display_data"
    }
   ],
   "source": [
    "# Plotting max_depth results\n",
    "fig, axs = plt.subplots(nrows=1, ncols=4, sharey=True, figsize=(16, 4))\n",
    "\n",
    "for i, d in zip(range(0, len(depths)), depths):\n",
    "    axs[i].plot(\n",
    "        np.arange(number_of_estimators) + 1,\n",
    "        depth_results[depths[i]]['train_score'],\n",
    "        \"b-\",\n",
    "        label=\"Training Set Deviance\",\n",
    "    )\n",
    "    axs[i].plot(\n",
    "        np.arange(number_of_estimators) + 1, depth_results[depths[i]]['test_score'], \"r-\", label=\"Test Set Deviance\"\n",
    "    )\n",
    "    \n",
    "    axs[i].axvline(x=(np.argmin(depth_results[depths[i]]['test_score']) + 1), color='gray')\n",
    "    axs[i].set_xlabel('Boosting Iterations')\n",
    "    axs[i].set_title(f'Max Depth of {depths[i]}', fontsize=16);\n",
    "axs[0].set_ylabel('Deviance')\n",
    "fig.suptitle('GB Model performance wrt Max Tree Depth (100 boosting iterations)', fontsize=20)\n",
    "fig.tight_layout()\n",
    "\n",
    "plt.show()"
   ]
  },
  {
   "cell_type": "code",
   "execution_count": 76,
   "id": "d3769f54",
   "metadata": {},
   "outputs": [
    {
     "data": {
      "image/png": "[encoded data removed]",
      "text/plain": [
       "<Figure size 432x288 with 1 Axes>"
      ]
     },
     "metadata": {},
     "output_type": "display_data"
    }
   ],
   "source": [
    "train_times = [x[1]['fit_time'] for x in depth_results.items()]\n",
    "sns.scatterplot(x=depths, y=train_times);\n",
    "plt.title('Train time for GB models', fontsize=16);\n",
    "plt.ylabel('Train Time (sec)')\n",
    "plt.xlabel('Max Depth')\n",
    "plt.show()"
   ]
  },
  {
   "cell_type": "code",
   "execution_count": 72,
   "id": "e0498a82",
   "metadata": {},
   "outputs": [
    {
     "name": "stdout",
     "output_type": "stream",
     "text": [
      "{'test_score': array([10877.1072729 ,  9692.55896658,  8571.00780068,  7709.15326897,\n",
      "        6857.47911935,  6163.85052313,  5596.26221274,  5057.16150171,\n",
      "        4655.26291532,  4248.52123611,  3928.04315176,  3655.80855426,\n",
      "        3413.02433172,  3167.07539318,  2971.53316314,  2816.83563247,\n",
      "        2658.58130855,  2527.90813763,  2402.25279122,  2286.74519579,\n",
      "        2201.15720328,  2104.64627996,  2034.08441655,  1975.58082236,\n",
      "        1963.23597853,  1870.88564523,  1811.41208804,  1750.40274461,\n",
      "        1748.15188831,  1780.79096702,  1731.30445425,  1695.52515208,\n",
      "        1698.67050415,  1737.13433312,  1709.67792563,  1715.98943821,\n",
      "        1694.01144226,  1732.01100249,  1719.58171997,  1704.42284136,\n",
      "        1696.55876799,  1709.39853046,  1702.91040564,  1712.29336662,\n",
      "        1698.2435618 ,  1707.65744943,  1701.68832303,  1746.87392021,\n",
      "        1735.04630471,  1769.55838352,  1749.49451572,  1739.4750038 ,\n",
      "        1748.05485599,  1739.03212253,  1737.4694837 ,  1746.4358434 ,\n",
      "        1740.61985973,  1744.98428279,  1729.84415091,  1726.93603801,\n",
      "        1719.66253717,  1711.33976293,  1707.92459833,  1707.90365452,\n",
      "        1700.72180167,  1704.94484402,  1700.68335561,  1694.44104818,\n",
      "        1728.28894249,  1734.39310261,  1730.66208346,  1721.95923268,\n",
      "        1717.13252677,  1718.14918705,  1718.13186321,  1709.2807902 ,\n",
      "        1734.31794271,  1740.49298389,  1739.78967677,  1739.78450878,\n",
      "        1731.29375643,  1726.67463684,  1733.06004933,  1754.83988102,\n",
      "        1754.82337248,  1761.81201938,  1763.96146184,  1766.44910804,\n",
      "        1789.51391263,  1789.51292468,  1781.77480594,  1782.83369291,\n",
      "        1789.17899319,  1860.89227004,  1856.95365471,  1852.91401988,\n",
      "        1851.05757109,  1851.0275927 ,  1855.81690673,  1853.01697478]), 'train_score': array([6197.47105663, 5271.85903963, 4490.67316253, 3848.29907074,\n",
      "       3301.47884457, 2858.47668679, 2482.02063107, 2162.42322425,\n",
      "       1901.52366967, 1676.98828615, 1492.24464819, 1335.71229003,\n",
      "       1206.83193727, 1092.56641549, 1000.85999687,  922.68697018,\n",
      "        855.02406548,  800.39446518,  753.15722519,  713.05288186,\n",
      "        679.54222905,  648.71745207,  624.01113844,  602.67650678,\n",
      "        583.40612485,  558.39934478,  542.5951086 ,  524.48708359,\n",
      "        511.74898978,  501.19924157,  488.01633363,  477.13804945,\n",
      "        468.65167578,  461.37957093,  453.50509847,  446.94278315,\n",
      "        441.79881853,  436.80824534,  432.18787479,  427.05431586,\n",
      "        423.28748656,  418.97847937,  415.81875991,  411.24540111,\n",
      "        406.71117423,  402.7883097 ,  400.41232585,  397.49855661,\n",
      "        394.19994276,  391.14648508,  388.85845789,  386.20642685,\n",
      "        383.31085139,  381.46313781,  378.88879839,  376.12610433,\n",
      "        374.03041545,  372.20148373,  370.63012365,  368.02277175,\n",
      "        366.27689795,  364.50965193,  363.38131355,  362.4736252 ,\n",
      "        361.24082342,  360.09866116,  358.76807717,  357.6958063 ,\n",
      "        355.59783061,  354.23870449,  353.14168887,  351.26125506,\n",
      "        350.39150836,  348.62052461,  348.05319676,  346.80810249,\n",
      "        345.1509021 ,  343.9491727 ,  342.48538281,  341.9973554 ,\n",
      "        341.24963206,  340.22642771,  339.0936132 ,  337.80312394,\n",
      "        337.39139229,  336.19406803,  334.96125312,  334.30342968,\n",
      "        333.14982855,  332.79431314,  331.84821706,  330.66608166,\n",
      "        329.87891617,  328.33287452,  327.54500336,  326.9863657 ,\n",
      "        326.28569005,  325.98966805,  324.91094748,  324.22832672]), 'fit_time': 195.58510375022888}\n",
      "{'test_score': array([10646.38835304,  9295.69951507,  8136.35023461,  7183.70801853,\n",
      "        6362.59997845,  5686.50332252,  5110.037761  ,  4606.63590534,\n",
      "        4192.94818222,  3825.33891987,  3512.16128754,  3292.62442068,\n",
      "        3105.01463938,  2912.05597571,  2749.38729474,  2663.38670832,\n",
      "        2553.60035834,  2465.56576703,  2375.21402483,  2269.23255288,\n",
      "        2198.75963476,  2171.14581063,  2180.64687254,  2161.91307101,\n",
      "        2149.27238599,  2128.22496836,  2093.04129567,  2124.95110136,\n",
      "        2111.7046937 ,  2096.38336249,  2121.60463783,  2104.64739861,\n",
      "        2066.02462841,  2026.13069105,  2094.34168017,  2073.62562372,\n",
      "        2058.63292333,  2058.96141648,  2034.79609342,  2066.5630496 ,\n",
      "        2044.94232697,  2006.56177224,  2078.38448833,  2065.58918218,\n",
      "        2107.43255771,  2101.30640661,  2112.62736183,  2096.09528994,\n",
      "        2090.52708413,  2116.65485674,  2110.90134597,  2111.84126108,\n",
      "        2107.89403869,  2120.53393671,  2120.97100895,  2139.9420366 ,\n",
      "        2123.8066276 ,  2136.50599184,  2134.56866964,  2148.82858804,\n",
      "        2144.62707166,  2151.52320653,  2168.94103155,  2192.56254149,\n",
      "        2189.91635434,  2192.26867702,  2190.91505224,  2201.76517462,\n",
      "        2205.53332447,  2205.54939608,  2207.48060137,  2285.21906772,\n",
      "        2276.17276199,  2267.15619986,  2267.84395343,  2264.82649644,\n",
      "        2255.68025349,  2270.77116092,  2283.27577388,  2298.46717509,\n",
      "        2296.28492632,  2308.13677815,  2296.07653081,  2292.82533173,\n",
      "        2286.07531323,  2285.35579615,  2281.22785435,  2284.78294687,\n",
      "        2283.20008316,  2295.35735746,  2292.00005061,  2362.26116003,\n",
      "        2364.58876632,  2360.56136026,  2374.10777971,  2366.20004324,\n",
      "        2370.1688483 ,  2358.15960448,  2356.6258665 ,  2349.87549598]), 'train_score': array([6073.60964146, 5052.02500129, 4214.10327584, 3528.40935623,\n",
      "       2970.87605162, 2515.23485293, 2143.77407621, 1839.47001893,\n",
      "       1588.19939815, 1385.89893654, 1219.23649524, 1082.73245693,\n",
      "        971.3255416 ,  871.52081418,  793.24263048,  726.7779006 ,\n",
      "        672.06567105,  626.62234449,  586.27681383,  554.20261572,\n",
      "        526.80971659,  500.02391395,  481.36652529,  461.82695652,\n",
      "        445.45774145,  430.87018708,  416.7000837 ,  406.01220203,\n",
      "        396.22618088,  386.67845218,  378.39950065,  371.88165559,\n",
      "        364.75332041,  358.08677545,  353.63786053,  348.04063238,\n",
      "        343.2689369 ,  339.14799469,  335.21350111,  331.71653705,\n",
      "        328.57091768,  324.83963741,  322.27246971,  319.86741859,\n",
      "        317.57264065,  315.30520223,  312.4486191 ,  310.55877362,\n",
      "        309.28902324,  307.24331557,  305.95158568,  303.11683184,\n",
      "        301.59262335,  299.3300836 ,  297.04517434,  295.29433764,\n",
      "        294.29406305,  292.40867888,  290.8457994 ,  289.26997581,\n",
      "        287.61963748,  286.03712729,  284.79573842,  283.56264907,\n",
      "        281.29763932,  280.18433857,  279.14554758,  278.095703  ,\n",
      "        276.64250899,  275.36080112,  274.5909592 ,  273.25098565,\n",
      "        271.96444904,  271.14296988,  270.40699138,  269.50893632,\n",
      "        268.3523745 ,  267.55120867,  266.82867706,  265.41703729,\n",
      "        264.45168928,  263.80241292,  262.25251673,  261.58388129,\n",
      "        260.44426998,  259.75444404,  259.08213962,  258.46091372,\n",
      "        257.96419362,  257.38721106,  256.56578596,  255.55331691,\n",
      "        255.04058881,  254.40928335,  253.91586779,  253.35451674,\n",
      "        252.80727325,  252.06915743,  251.5479341 ,  250.69595034]), 'fit_time': 290.5943760871887}\n",
      "{'test_score': array([10614.27925683,  9232.77918979,  8059.88592898,  7080.15774781,\n",
      "        6138.91680647,  5427.27507416,  4936.72508839,  4467.64450511,\n",
      "        4092.87015998,  3762.16046952,  3528.14161076,  3305.42371052,\n",
      "        3190.27880479,  2961.70186132,  2791.61866545,  2697.33002125,\n",
      "        2624.30483473,  2493.53401686,  2458.12315255,  2403.75839283,\n",
      "        2358.44699785,  2279.02617909,  2233.61373106,  2187.72561595,\n",
      "        2146.95596607,  2085.58294205,  2068.70362527,  2105.29445045,\n",
      "        2085.06752849,  2058.19719282,  2101.52856431,  2102.40468147,\n",
      "        2139.89788321,  2129.23117649,  2121.92529963,  2087.59074852,\n",
      "        2118.84333647,  2098.50838032,  2075.05525649,  2064.39813722,\n",
      "        2059.36576415,  2049.80559476,  2091.28243902,  2065.86444422,\n",
      "        2025.65217028,  2001.80212267,  1998.99987144,  1987.79215869,\n",
      "        1999.11207146,  1983.32404581,  1961.78081616,  1957.2472276 ,\n",
      "        1957.56404195,  1938.06723763,  1948.9215932 ,  1957.06697112,\n",
      "        1992.79011008,  2003.31839524,  1993.8269952 ,  2017.95044149,\n",
      "        2025.60942403,  2009.20519888,  2002.9067817 ,  2001.49995164,\n",
      "        1995.39341492,  2009.42278858,  2011.46317962,  2016.90554944,\n",
      "        2015.69237025,  2053.20621547,  2055.56460837,  2060.69191577,\n",
      "        2065.22096837,  2085.04805811,  2086.20115087,  2094.23645831,\n",
      "        2096.45853709,  2095.52714948,  2086.39596328,  2108.61948613,\n",
      "        2115.94802447,  2114.06017765,  2112.55905119,  2105.85311748,\n",
      "        2100.8252845 ,  2133.11400171,  2128.79279701,  2129.57321427,\n",
      "        2139.43767711,  2175.29814284,  2180.54084122,  2173.09702296,\n",
      "        2167.84300304,  2165.71666413,  2162.65594481,  2154.83487513,\n",
      "        2192.69227726,  2200.44579385,  2200.83567086,  2199.5304257 ]), 'train_score': array([6033.35122537, 4984.42378867, 4131.20480596, 3440.337554  ,\n",
      "       2872.84034377, 2411.48518955, 2037.37285034, 1732.11045443,\n",
      "       1483.13988409, 1277.99911145, 1111.24844423,  975.901449  ,\n",
      "        864.62688884,  766.76404049,  687.37762038,  624.17431962,\n",
      "        568.16407092,  522.71120152,  485.36585034,  454.76454557,\n",
      "        427.97992524,  406.47131805,  387.23835458,  372.0115255 ,\n",
      "        356.87997101,  345.61003585,  334.98067165,  324.81482601,\n",
      "        316.43355333,  308.75538914,  301.19553693,  294.7575938 ,\n",
      "        290.27246154,  285.91417645,  281.75987928,  275.96194256,\n",
      "        272.95474904,  268.28637257,  264.34022552,  262.40998174,\n",
      "        258.76334388,  255.62765244,  253.77671942,  251.99040928,\n",
      "        249.52957214,  247.9327624 ,  246.052436  ,  244.65762476,\n",
      "        242.66287519,  240.38675493,  239.33651374,  238.01874385,\n",
      "        235.66391473,  234.71475691,  233.18097227,  231.260141  ,\n",
      "        230.23574179,  228.92049512,  228.17213041,  226.96754994,\n",
      "        226.12281593,  223.9542135 ,  223.32857752,  221.7077    ,\n",
      "        220.73134521,  219.66915268,  218.62172986,  217.85704766,\n",
      "        216.90230511,  216.12399798,  215.00875163,  213.8562731 ,\n",
      "        213.25801728,  212.50123677,  211.76361483,  210.78232595,\n",
      "        210.07508281,  209.54707678,  208.9918206 ,  208.30507126,\n",
      "        207.77508308,  206.8262213 ,  206.19980676,  205.56224036,\n",
      "        204.76815163,  204.14314043,  203.46355468,  202.94203557,\n",
      "        202.62585551,  202.20439358,  201.24331434,  200.62399266,\n",
      "        200.10542403,  199.60025797,  199.16044729,  198.4807852 ,\n",
      "        197.93557671,  197.35187971,  196.88294727,  196.48449133]), 'fit_time': 380.8475089073181}\n",
      "{'test_score': array([10753.05592389,  9565.74544184,  8409.1869982 ,  7492.06765278,\n",
      "        6635.89265476,  5982.023356  ,  5406.02542949,  4891.61704257,\n",
      "        4488.95262624,  4203.51880891,  3894.60518722,  3625.69216411,\n",
      "        3446.80791553,  3297.73933163,  3173.44994654,  2996.18963258,\n",
      "        2932.96367081,  2833.03559666,  2716.07609222,  2630.4409796 ,\n",
      "        2598.48452179,  2547.86076549,  2512.55282158,  2466.30323842,\n",
      "        2477.41609483,  2476.94025333,  2397.0833081 ,  2350.87911723,\n",
      "        2334.72030403,  2312.67965578,  2280.0791261 ,  2213.49565847,\n",
      "        2230.05392169,  2268.21250293,  2275.6366413 ,  2259.5472162 ,\n",
      "        2236.62882559,  2221.062887  ,  2210.45149335,  2194.89282571,\n",
      "        2201.50211273,  2208.36151356,  2184.37043905,  2180.02120018,\n",
      "        2164.81690072,  2171.89545483,  2171.56981227,  2167.9953755 ,\n",
      "        2176.00555127,  2171.05335921,  2157.64070672,  2162.27608069,\n",
      "        2146.63515194,  2145.37560255,  2152.99147084,  2147.5296524 ,\n",
      "        2142.78402447,  2146.80997807,  2150.44816862,  2147.88348465,\n",
      "        2141.80653578,  2132.6925386 ,  2134.77914571,  2130.36644565,\n",
      "        2147.23357473,  2146.172867  ,  2150.24563158,  2151.09681319,\n",
      "        2149.46688687,  2142.89174735,  2143.48657615,  2142.80600071,\n",
      "        2164.1914336 ,  2161.5326893 ,  2168.35838876,  2172.14399746,\n",
      "        2173.97974113,  2203.65452653,  2205.67989406,  2211.13708942,\n",
      "        2210.51772197,  2214.26370101,  2212.44024691,  2211.82262531,\n",
      "        2209.04453028,  2220.40375236,  2222.74107259,  2224.44434822,\n",
      "        2223.94982813,  2223.848717  ,  2222.79848365,  2224.13074815,\n",
      "        2223.77507597,  2233.11810181,  2230.34545013,  2226.00369034,\n",
      "        2244.5694846 ,  2247.53483537,  2247.3835043 ,  2247.28330062]), 'train_score': array([6017.25549767, 4954.85170836, 4088.81354223, 3387.13905892,\n",
      "       2814.79349592, 2349.78672599, 1971.77886455, 1663.61354793,\n",
      "       1413.76917819, 1208.85459287, 1041.82253066,  904.91031419,\n",
      "        791.13582336,  699.39218138,  623.94663435,  561.10331404,\n",
      "        504.11352146,  461.90683952,  423.45815151,  394.41275641,\n",
      "        365.89033322,  345.36023578,  325.23807508,  310.90872865,\n",
      "        299.46029573,  285.94537114,  276.26386069,  266.90617284,\n",
      "        259.5978771 ,  252.44964643,  245.65717399,  241.10798195,\n",
      "        235.52610484,  231.51972787,  226.46076872,  223.77168692,\n",
      "        220.87243752,  218.66786832,  216.60066257,  213.42134474,\n",
      "        210.53816812,  208.38181532,  205.1619626 ,  202.76677549,\n",
      "        200.82536834,  199.56948329,  197.35269229,  195.59290218,\n",
      "        194.61777796,  193.11775771,  192.18262351,  190.81406487,\n",
      "        190.06296534,  188.48310138,  187.00034167,  185.83220453,\n",
      "        184.0967848 ,  182.84765164,  181.25052966,  180.19541457,\n",
      "        179.17291022,  178.42358215,  177.42191473,  176.59065877,\n",
      "        175.93877404,  174.92893335,  174.09224173,  173.39300231,\n",
      "        172.6169825 ,  171.69495336,  171.07532   ,  170.55296948,\n",
      "        169.96072541,  169.35192723,  168.66038071,  168.0880497 ,\n",
      "        167.11476782,  166.56953694,  165.61615572,  164.9335496 ,\n",
      "        164.28220183,  163.83966575,  163.24248208,  162.63058393,\n",
      "        161.84862061,  161.27252122,  160.51917517,  160.1708128 ,\n",
      "        159.96609131,  158.7371356 ,  158.14771021,  157.76534122,\n",
      "        157.12444152,  156.71894514,  156.15422067,  155.39086487,\n",
      "        154.98915893,  154.63309379,  154.30314732,  153.81559749]), 'fit_time': 472.77875113487244}\n"
     ]
    }
   ],
   "source": [
    "for x in depth_results.items():\n",
    "    print(x[1])"
   ]
  },
  {
   "cell_type": "code",
   "execution_count": null,
   "id": "ae454650",
   "metadata": {},
   "outputs": [],
   "source": []
  }
 ],
 "metadata": {
  "kernelspec": {
   "display_name": "Python 3",
   "language": "python",
   "name": "python3"
  },
  "language_info": {
   "codemirror_mode": {
    "name": "ipython",
    "version": 3
   },
   "file_extension": ".py",
   "mimetype": "text/x-python",
   "name": "python",
   "nbconvert_exporter": "python",
   "pygments_lexer": "ipython3",
   "version": "3.8.8"
  }
 },
 "nbformat": 4,
 "nbformat_minor": 5
}
